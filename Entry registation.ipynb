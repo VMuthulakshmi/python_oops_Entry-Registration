{
 "cells": [
  {
   "cell_type": "code",
   "execution_count": 47,
   "metadata": {},
   "outputs": [],
   "source": [
    "import numpy as np\n",
    "import getpass#for getting password\n",
    "import hashlib,os,binascii\n",
    "class DB:\n",
    "    name=[]\n",
    "    pwd=[]\n",
    "    @staticmethod\n",
    "    def hash_password(password):\n",
    "        salt=hashlib.sha256(os.urandom(60)).hexdigest().encode('ascii')\n",
    "        pwdhash=hashlib.pbkdf2_hmac('sha256',password.encode('utf-8'),salt,100)\n",
    "        pwdhash=binascii.hexlify(pwdhash)\n",
    "        return (salt+pwdhash).decode('ascii')\n",
    "    def verify_password(stored,given):\n",
    "        print(stored)\n",
    "        salt=stored[:64]\n",
    "        stored_pwd=stored[64:]\n",
    "        pwd_hash=hashlib.pbkdf2_hmac('sha256',given.encode('utf-8'),salt.encode('ascii'),100)\n",
    "        hashpwd=binascii.hexlify(pwd_hash).decode('ascii')\n",
    "        if(stored_pwd==hashpwd):\n",
    "            return 1\n",
    "        else:\n",
    "            return 0"
   ]
  },
  {
   "cell_type": "code",
   "execution_count": 48,
   "metadata": {},
   "outputs": [],
   "source": [
    "class Register(DB):\n",
    "    def savedetails(self):\n",
    "        n=(input(\"enter Your name\"))\n",
    "        p=getpass.getpass(\"enter your password\")\n",
    "        self.name.append(n)\n",
    "        p=DB.hash_password(p)\n",
    "        self.pwd.append(p)\n",
    "        print(self.name)\n",
    "        print(self.pwd)\n",
    "        print(\"user id\")\n"
   ]
  },
  {
   "cell_type": "code",
   "execution_count": 49,
   "metadata": {},
   "outputs": [],
   "source": [
    "class login(DB):\n",
    "    def check_user(self):\n",
    "        n=(input(\"enter Your name\"))\n",
    "        p=getpass.getpass(\"enter your password\")\n",
    "        # To find the index of specific name in the list\n",
    "        index=self.search_index(n,p)\n",
    "        if(index==-1):\n",
    "            print(\"You have not Registered\")\n",
    "        if(DB.verify_password(self.pwd[index],p)==1):\n",
    "            print(\"Login successfull\")\n",
    "            return 1\n",
    "        else:\n",
    "            print(\"Login failed\")\n",
    "            return 0\n",
    "    #to find index\"\n",
    "\n",
    "    def search_index(self,n,p):\n",
    "        index=-1\n",
    "        for names in self.name:\n",
    "            index=index+1\n",
    "            if(names==n):\n",
    "                break\n",
    "        return index"
   ]
  },
  {
   "cell_type": "code",
   "execution_count": 50,
   "metadata": {},
   "outputs": [
    {
     "name": "stdout",
     "output_type": "stream",
     "text": [
      "Event List\n"
     ]
    }
   ],
   "source": [
    "class showevents():\n",
    "    event_lst=[['Event1','9:00','Block A'],['Event2','10:00','Block A']]\n",
    "    print(\"Event List\")\n",
    "    def allevents(self):\n",
    "        for event in self.event_lst:\n",
    "            print(event)"
   ]
  },
  {
   "cell_type": "code",
   "execution_count": 51,
   "metadata": {},
   "outputs": [],
   "source": [
    "class Update(login):\n",
    "    def update(self):\n",
    "        print(\"To update your details you must to be Login\")\n",
    "        if(self.check_user()==1):\n",
    "            print(\"Enter your deatils\")\n",
    "            update_name=input(\"Enter your name\")\n",
    "            \n",
    "    def update_name(self):\n",
    "        update_password=input(\"\\nEnter Your Password\")\n",
    "        item_index=self.search_index(self.update_name,update_password)\n",
    "        self.name[item_index]=self.update_name\n",
    "        print(\"updated successfully\\n Your Deatils\\n name self.name[item_index] Password self.pwd[item_index]\")\n",
    "        \n",
    "    def update_pwd(self):\n",
    "        update_password=input(\"\\nEnter Your Password\")\n",
    "        item_index=self.search_index(self.update_name,update_password)\n",
    "        self.pwd[item_index]=update_password\n",
    "        print(\"Password updated successfully\")\n",
    "        \n",
    "        \n",
    "        \n"
   ]
  },
  {
   "cell_type": "code",
   "execution_count": 55,
   "metadata": {},
   "outputs": [
    {
     "name": "stdout",
     "output_type": "stream",
     "text": [
      "enter your choice2\n",
      "enter Your namea\n",
      "enter your password········\n",
      "f55bc116baae1c364142c46e444d079e89ed7e15a936a17eb8d63e1171c7181228c4906e5a09db67b3a709b73a6d6e18c0a72b750ab6bb02ca846f50d0bc3c2a\n",
      "Login successfull\n",
      "['Event1', '9:00', 'Block A']\n",
      "['Event2', '10:00', 'Block A']\n"
     ]
    }
   ],
   "source": [
    "### print(\"1.Register\\n2.Login\\n3.update your password\\n4.Update your Name\")\n",
    "num=int(input(\"enter your choice\"))\n",
    "if(num==1):\n",
    "    x=Register()\n",
    "    x.savedetails()\n",
    "elif num==2:\n",
    "    x=login()\n",
    "    if(x.check_user()==1):\n",
    "        se=showevents()\n",
    "        se.allevents()\n",
    "    else:\n",
    "        print(\"Can't show events\")\n",
    "elif num==3:\n",
    "    x=Update()\n",
    "    x.update()\n",
    "    x.update_name()\n",
    "else:\n",
    "    x=Update()\n",
    "    x.update()\n",
    "    x.update_pwd()"
   ]
  },
  {
   "cell_type": "code",
   "execution_count": null,
   "metadata": {},
   "outputs": [],
   "source": []
  }
 ],
 "metadata": {
  "kernelspec": {
   "display_name": "Python 3",
   "language": "python",
   "name": "python3"
  },
  "language_info": {
   "codemirror_mode": {
    "name": "ipython",
    "version": 3
   },
   "file_extension": ".py",
   "mimetype": "text/x-python",
   "name": "python",
   "nbconvert_exporter": "python",
   "pygments_lexer": "ipython3",
   "version": "3.6.5"
  }
 },
 "nbformat": 4,
 "nbformat_minor": 2
}
